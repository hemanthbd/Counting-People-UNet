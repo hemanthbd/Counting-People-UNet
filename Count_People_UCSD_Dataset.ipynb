{
  "nbformat": 4,
  "nbformat_minor": 0,
  "metadata": {
    "colab": {
      "name": "Counting_People_UCSD_Dataset.ipynb",
      "provenance": [],
      "machine_shape": "hm"
    },
    "kernelspec": {
      "name": "python3",
      "display_name": "Python 3"
    },
    "language_info": {
      "name": "python"
    },
    "accelerator": "GPU"
  },
  "cells": [
    {
      "cell_type": "code",
      "metadata": {
        "id": "om55iUPt5eVp"
      },
      "source": [
        "import torch\n",
        "import torch.nn as nn\n",
        "import torch.optim as optim\n",
        "from torch.optim import lr_scheduler\n",
        "from torch.autograd import Variable\n",
        "import torchvision\n",
        "from torchvision import datasets, models, transforms\n",
        "import matplotlib.pyplot as plt\n",
        "import time\n",
        "import os\n",
        "import copy\n",
        "import sklearn.svm\n",
        "import cv2\n",
        "from matplotlib import pyplot as plt\n",
        "import numpy as np\n",
        "from os.path import exists\n",
        "import pandas as pd\n",
        "import PIL\n",
        "import torch\n",
        "import numpy as np # linear algebra\n",
        "import pandas as pd # data processing, CSV file I/O (e.g. pd.read_csv)\n",
        "import albumentations\n",
        "import matplotlib.pyplot as plt \n",
        "import tensorflow as tf \n",
        "import cv2 as cv \n",
        "from PIL import Image\n",
        "import seaborn as sns\n",
        "import plotly.express as px\n",
        "import string\n",
        "import re\n",
        "from sklearn.metrics.pairwise import cosine_similarity\n",
        "from skimage.io import imread\n",
        "from skimage.measure import label as lab\n",
        "\n",
        "torch.cuda.empty_cache()\n",
        "#cuda_output = !ldconfig -p|grep cudart.so|sed -e 's/.*\\.\\([0-9]*\\)\\.\\([0-9]*\\)$/cu\\1\\2/'\n",
        "#accelerator = cuda_output[0] if exists('/dev/nvidia0') else 'cpu'\n",
        "\n",
        "#print(\"Accelerator type = \",accelerator)\n",
        "#print(\"Pytorch verision: \", torch.__version__)"
      ],
      "execution_count": null,
      "outputs": []
    },
    {
      "cell_type": "code",
      "metadata": {
        "id": "k3bcss8CCmig"
      },
      "source": [
        "from google.colab import drive\n",
        "\n",
        "# This will prompt for authorization.\n",
        "drive.mount('/content/drive')"
      ],
      "execution_count": null,
      "outputs": []
    },
    {
      "cell_type": "code",
      "metadata": {
        "id": "7S1oss4Mtf1q"
      },
      "source": [
        "from typing import Tuple,List"
      ],
      "execution_count": null,
      "outputs": []
    },
    {
      "cell_type": "code",
      "metadata": {
        "id": "bFkW6-KbNu3d"
      },
      "source": [
        "def create_hdf5(dataset_name: str,\n",
        "                train_size: int,\n",
        "                valid_size: int,\n",
        "                img_size: Tuple[int, int],\n",
        "                in_channels: int=3):\n",
        "    \"\"\"\n",
        "    Create empty training and validation HDF5 files with placeholders\n",
        "    for images and labels (density maps).\n",
        "    Note:\n",
        "    Datasets are saved in [dataset_name]/train.h5 and [dataset_name]/valid.h5.\n",
        "    Existing files will be overwritten.\n",
        "    Args:\n",
        "        dataset_name: used to create a folder for train.h5 and valid.h5\n",
        "        train_size: no. of training samples\n",
        "        valid_size: no. of validation samples\n",
        "        img_size: (width, height) of a single image / density map\n",
        "        in_channels: no. of channels of an input image\n",
        "    Returns:\n",
        "        A tuple of pointers to training and validation HDF5 files.\n",
        "    \"\"\"\n",
        "    # create output folder if it does not exist\n",
        "    os.makedirs(dataset_name, exist_ok=True)\n",
        "\n",
        "    # create HDF5 files: [dataset_name]/(train | valid).h5\n",
        "    train_h5 = h5py.File(os.path.join(dataset_name, 'train.h5'), 'w')\n",
        "    valid_h5 = h5py.File(os.path.join(dataset_name, 'valid.h5'), 'w')\n",
        "\n",
        "    # add two HDF5 datasets (images and labels) for each HDF5 file\n",
        "    for h5, size in ((train_h5, train_size), (valid_h5, valid_size)):\n",
        "        h5.create_dataset('images', (size, in_channels, *img_size))\n",
        "        h5.create_dataset('labels', (size, 1, *img_size))\n",
        "\n",
        "    return train_h5, valid_h5\n",
        "\n",
        "\n",
        "def get_and_unzip(url: str, location: str=\".\"):\n",
        "    \"\"\"Extract a ZIP archive from given URL.\n",
        "    Args:\n",
        "        url: url of a ZIP file\n",
        "        location: target location to extract archive in\n",
        "    \"\"\"\n",
        "    dataset = wget.download(url)\n",
        "    dataset = zipfile.ZipFile(dataset)\n",
        "    dataset.extractall(location)\n",
        "    dataset.close()\n",
        "    os.remove(dataset.filename)\n",
        "\n",
        "def generate_label(label_info: np.array, image_shape: List[int]):\n",
        "    \"\"\"\n",
        "    Generate a density map based on objects positions.\n",
        "    Args:\n",
        "        label_info: (x, y) objects positions\n",
        "        image_shape: (width, height) of a density map to be generated\n",
        "    Returns:\n",
        "        A density map.\n",
        "    \"\"\"\n",
        "    # create an empty density map\n",
        "    label = np.zeros(image_shape, dtype=np.float32)\n",
        "\n",
        "    # loop over objects positions and marked them with 100 on a label\n",
        "    # note: *_ because some datasets contain more info except x, y coordinates\n",
        "    for x, y, *_ in label_info:\n",
        "        if y < image_shape[0] and x < image_shape[1]:\n",
        "            label[int(y)][int(x)] = 100\n",
        "\n",
        "    # apply a convolution with a Gaussian kernel\n",
        "    label = gaussian_filter(label, sigma=(1, 1), order=0)\n",
        "\n",
        "    return label\n",
        "    "
      ],
      "execution_count": null,
      "outputs": []
    },
    {
      "cell_type": "code",
      "metadata": {
        "colab": {
          "base_uri": "https://localhost:8080/"
        },
        "id": "VlFSM1gfcUzF",
        "outputId": "3708274e-db81-4c20-c7d9-4560c33e74ca"
      },
      "source": [
        "!ls /"
      ],
      "execution_count": null,
      "outputs": [
        {
          "output_type": "stream",
          "text": [
            "bin\t datalab  home\t lib64\topt   run   sys\t\t       tools\n",
            "boot\t dev\t  lib\t media\tproc  sbin  tensorflow-1.15.2  usr\n",
            "content  etc\t  lib32  mnt\troot  srv   tmp\t\t       var\n"
          ],
          "name": "stdout"
        }
      ]
    },
    {
      "cell_type": "code",
      "metadata": {
        "id": "f6kUeOSghyay"
      },
      "source": [
        "def generate_ucsd_data():\n",
        "    \"\"\"Generate HDF5 files for mall dataset.\"\"\"\n",
        "    # download and extract data\n",
        "    get_and_unzip(\n",
        "        'http://www.svcl.ucsd.edu/projects/peoplecnt/db/ucsdpeds.zip'\n",
        "    )\n",
        "    # download and extract annotations\n",
        "    get_and_unzip(\n",
        "        'http://www.svcl.ucsd.edu/projects/peoplecnt/db/vidf-cvpr.zip'\n",
        "    )\n",
        "    # create training and validation HDF5 files\n",
        "    train_h5, valid_h5 = create_hdf5('ucsd',\n",
        "                                     train_size=1500,\n",
        "                                     valid_size=500,\n",
        "                                     img_size=(160, 240),\n",
        "                                     in_channels=1)\n",
        "\n",
        "    def fill_h5(h5, labels, video_id, init_frame=0, h5_id=0):\n",
        "        \"\"\"\n",
        "        Save images and labels in given HDF5 file.\n",
        "        Args:\n",
        "            h5: HDF5 file\n",
        "            labels: the list of labels\n",
        "            video_id: the id of a scene\n",
        "            init_frame: the first frame in given list of labels\n",
        "            h5_id: next dataset id to be used\n",
        "        \"\"\"\n",
        "        video_name = f\"vidf1_33_00{video_id}\"\n",
        "        video_path = f\"ucsdpeds/vidf/{video_name}.y/\"\n",
        "\n",
        "        for i, label in enumerate(labels, init_frame):\n",
        "            # path to the next frame (convention: [video name]_fXXX.jpg)\n",
        "            img_path = f\"{video_path}/{video_name}_f{str(i+1).zfill(3)}.png\"\n",
        "\n",
        "            # get an image as numpy array\n",
        "            image = np.array(Image.open(img_path), dtype=np.float32) / 255\n",
        "            # generate a density map by applying a Gaussian filter\n",
        "            label = generate_label(label[0][0][0], image.shape)\n",
        "\n",
        "            # pad images to allow down and upsampling\n",
        "            image = np.pad(image, 1, 'constant', constant_values=0)\n",
        "            label = np.pad(label, 1, 'constant', constant_values=0)\n",
        "\n",
        "            # save data to HDF5 file\n",
        "            h5['images'][h5_id + i - init_frame, 0] = image\n",
        "            h5['labels'][h5_id + i - init_frame, 0] = label\n",
        "\n",
        "    # dataset contains 10 scenes\n",
        "    for scene in range(10):\n",
        "        # load labels infomation from provided MATLAB file\n",
        "        # it is numpy array with (x, y) objects position for subsequent frames\n",
        "        descriptions = loadmat(f'vidf-cvpr/vidf1_33_00{scene}_frame_full.mat')\n",
        "        labels = descriptions['frame'][0]\n",
        "\n",
        "        #print(ok)\n",
        "\n",
        "        # use first 150 frames for training and the last 50 for validation\n",
        "        # start filling from the place last scene finished\n",
        "        fill_h5(train_h5, labels[:150], scene, 0, 150 * scene)\n",
        "        fill_h5(valid_h5, labels[150:], scene, 150, 50 * scene)\n",
        "\n",
        "    # close HDF5 files\n",
        "    train_h5.close()\n",
        "    valid_h5.close()\n",
        "\n",
        "    # cleanup\n",
        "    shutil.rmtree('ucsdpeds')\n",
        "    shutil.rmtree('vidf-cvpr')\n"
      ],
      "execution_count": null,
      "outputs": []
    },
    {
      "cell_type": "code",
      "metadata": {
        "colab": {
          "base_uri": "https://localhost:8080/"
        },
        "id": "1wgH6vtwNges",
        "outputId": "80b69986-b301-4d85-c338-9ad33ba58fc8"
      },
      "source": [
        "!pip install wget"
      ],
      "execution_count": null,
      "outputs": [
        {
          "output_type": "stream",
          "text": [
            "Collecting wget\n",
            "  Downloading https://files.pythonhosted.org/packages/47/6a/62e288da7bcda82b935ff0c6cfe542970f04e29c756b0e147251b2fb251f/wget-3.2.zip\n",
            "Building wheels for collected packages: wget\n",
            "  Building wheel for wget (setup.py) ... \u001b[?25l\u001b[?25hdone\n",
            "  Created wheel for wget: filename=wget-3.2-cp37-none-any.whl size=9681 sha256=ad0962b35eba39cfdb35783959c704405064ac18a6555db2af9126fb5d05f81e\n",
            "  Stored in directory: /root/.cache/pip/wheels/40/15/30/7d8f7cea2902b4db79e3fea550d7d7b85ecb27ef992b618f3f\n",
            "Successfully built wget\n",
            "Installing collected packages: wget\n",
            "Successfully installed wget-3.2\n"
          ],
          "name": "stdout"
        }
      ]
    },
    {
      "cell_type": "code",
      "metadata": {
        "id": "5fdztkzBNK55"
      },
      "source": [
        "import os\n",
        "import shutil\n",
        "import zipfile\n",
        "from glob import glob\n",
        "from typing import List, Tuple\n",
        "\n",
        "import click\n",
        "import h5py\n",
        "import wget\n",
        "import numpy as np\n",
        "from PIL import Image\n",
        "from scipy.io import loadmat\n",
        "from scipy.ndimage import gaussian_filter\n",
        "\n",
        "\n",
        "def get_data(dataset: str):\n",
        "    \"\"\"\n",
        "    Get chosen dataset and generate HDF5 files with training\n",
        "    and validation samples.\n",
        "    \"\"\"\n",
        "    # dictionary-based switch statement\n",
        "    {\n",
        "        'ucsd': generate_ucsd_data\n",
        "    }[dataset]()"
      ],
      "execution_count": null,
      "outputs": []
    },
    {
      "cell_type": "code",
      "metadata": {
        "id": "0TCxDiroNbjl"
      },
      "source": [
        "get_data('ucsd')"
      ],
      "execution_count": null,
      "outputs": []
    },
    {
      "cell_type": "code",
      "metadata": {
        "id": "yzxJUy5teM8n"
      },
      "source": [
        "import os\n",
        "from random import random\n",
        "from typing import Optional\n",
        "\n",
        "import h5py\n",
        "import torch\n",
        "import numpy as np\n",
        "from torch.utils.data import Dataset, DataLoader\n",
        "\n",
        "\n",
        "class H5Dataset(Dataset):\n",
        "    \"\"\"PyTorch dataset for HDF5 files generated with `get_data.py`.\"\"\"\n",
        "\n",
        "    def __init__(self,\n",
        "                 dataset_path: str,\n",
        "                 horizontal_flip: float=0.0,\n",
        "                 vertical_flip: float=0.0):\n",
        "        \"\"\"\n",
        "        Initialize flips probabilities and pointers to a HDF5 file.\n",
        "        Args:\n",
        "            dataset_path: a path to a HDF5 file\n",
        "            horizontal_flip: the probability of applying horizontal flip\n",
        "            vertical_flip: the probability of applying vertical flip\n",
        "        \"\"\"\n",
        "        super(H5Dataset, self).__init__()\n",
        "        self.h5 = h5py.File(dataset_path, 'r')\n",
        "        self.images = self.h5['images']\n",
        "        self.labels = self.h5['labels']\n",
        "        self.horizontal_flip = horizontal_flip\n",
        "        self.vertical_flip = vertical_flip\n",
        "\n",
        "    def __len__(self):\n",
        "        \"\"\"Return no. of samples in HDF5 file.\"\"\"\n",
        "        return len(self.images)\n",
        "\n",
        "    def __getitem__(self, index: int):\n",
        "        \"\"\"Return next sample (randomly flipped).\"\"\"\n",
        "        # if both flips probabilities are zero return an image and a label\n",
        "        if not (self.horizontal_flip or self.vertical_flip):\n",
        "            return self.images[index], self.labels[index]\n",
        "\n",
        "        # axis = 1 (vertical flip), axis = 2 (horizontal flip)\n",
        "        axis_to_flip = []\n",
        "\n",
        "        if random() < self.vertical_flip:\n",
        "            axis_to_flip.append(1)\n",
        "\n",
        "        if random() < self.horizontal_flip:\n",
        "            axis_to_flip.append(2)\n",
        "\n",
        "        return (np.flip(self.images[index], axis=axis_to_flip).copy(),\n",
        "                np.flip(self.labels[index], axis=axis_to_flip).copy())"
      ],
      "execution_count": null,
      "outputs": []
    },
    {
      "cell_type": "code",
      "metadata": {
        "id": "ym1PapQHfZ4j"
      },
      "source": [
        "batch_size = 4\n",
        "learning_rate = 0.001\n",
        "n_epoch = 30\n",
        "horizontal_flip = 0.0\n",
        "vertical_flip = 0.0\n"
      ],
      "execution_count": null,
      "outputs": []
    },
    {
      "cell_type": "code",
      "metadata": {
        "colab": {
          "base_uri": "https://localhost:8080/"
        },
        "id": "lZVsgNBWfm8V",
        "outputId": "dfa14c57-4011-4d59-894b-b2b19950974f"
      },
      "source": [
        "!ls"
      ],
      "execution_count": null,
      "outputs": [
        {
          "output_type": "stream",
          "text": [
            "drive  sample_data  ucsd\n"
          ],
          "name": "stdout"
        }
      ]
    },
    {
      "cell_type": "code",
      "metadata": {
        "id": "yRTanDxefqLm"
      },
      "source": [
        "dataset_name = 'ucsd'"
      ],
      "execution_count": null,
      "outputs": []
    },
    {
      "cell_type": "code",
      "metadata": {
        "colab": {
          "base_uri": "https://localhost:8080/",
          "height": 106
        },
        "id": "D_Hs8uvQhIOM",
        "outputId": "8696ddac-adca-46e2-e3cf-356d27f46ae6"
      },
      "source": [
        "\n",
        "import torchvision\n",
        "'''\n",
        "resnet = torchvision.models.resnet.resnet50(pretrained=True)\n",
        "\n",
        "\n",
        "class ConvBlock(nn.Module):\n",
        "    \"\"\"\n",
        "    Helper module that consists of a Conv -> BN -> ReLU\n",
        "    \"\"\"\n",
        "\n",
        "    def __init__(self, in_channels, out_channels, padding=1, kernel_size=3, stride=1, with_nonlinearity=True):\n",
        "        super().__init__()\n",
        "        self.conv = nn.Conv2d(in_channels, out_channels, padding=padding, kernel_size=kernel_size, stride=stride)\n",
        "        self.bn = nn.BatchNorm2d(out_channels)\n",
        "        self.relu = nn.ReLU()\n",
        "        self.with_nonlinearity = with_nonlinearity\n",
        "\n",
        "    def forward(self, x):\n",
        "        x = self.conv(x)\n",
        "        x = self.bn(x)\n",
        "        if self.with_nonlinearity:\n",
        "            x = self.relu(x)\n",
        "        return x\n",
        "\n",
        "\n",
        "class Bridge(nn.Module):\n",
        "    \"\"\"\n",
        "    This is the middle layer of the UNet which just consists of some\n",
        "    \"\"\"\n",
        "\n",
        "    def __init__(self, in_channels, out_channels):\n",
        "        super().__init__()\n",
        "        self.bridge = nn.Sequential(\n",
        "            ConvBlock(in_channels, out_channels),\n",
        "            ConvBlock(out_channels, out_channels)\n",
        "        )\n",
        "\n",
        "    def forward(self, x):\n",
        "        return self.bridge(x)\n",
        "\n",
        "\n",
        "class UpBlockForUNetWithResNet50(nn.Module):\n",
        "    \"\"\"\n",
        "    Up block that encapsulates one up-sampling step which consists of Upsample -> ConvBlock -> ConvBlock\n",
        "    \"\"\"\n",
        "\n",
        "    def __init__(self, in_channels, out_channels, up_conv_in_channels=None, up_conv_out_channels=None,\n",
        "                 upsampling_method=\"conv_transpose\"):\n",
        "        super().__init__()\n",
        "\n",
        "        if up_conv_in_channels == None:\n",
        "            up_conv_in_channels = in_channels\n",
        "        if up_conv_out_channels == None:\n",
        "            up_conv_out_channels = out_channels\n",
        "\n",
        "        if upsampling_method == \"conv_transpose\":\n",
        "            self.upsample = nn.ConvTranspose2d(up_conv_in_channels, up_conv_out_channels, kernel_size=2, stride=2)\n",
        "        elif upsampling_method == \"bilinear\":\n",
        "            self.upsample = nn.Sequential(\n",
        "                nn.Upsample(mode='bilinear', scale_factor=2),\n",
        "                nn.Conv2d(in_channels, out_channels, kernel_size=1, stride=1)\n",
        "            )\n",
        "        self.conv_block_1 = ConvBlock(in_channels, out_channels)\n",
        "        self.conv_block_2 = ConvBlock(out_channels, out_channels)\n",
        "\n",
        "    def forward(self, up_x, down_x):\n",
        "        \"\"\"\n",
        "        :param up_x: this is the output from the previous up block\n",
        "        :param down_x: this is the output from the down block\n",
        "        :return: upsampled feature map\n",
        "        \"\"\"\n",
        "        x = self.upsample(up_x)\n",
        "        x = torch.cat([x, down_x], 1)\n",
        "        x = self.conv_block_1(x)\n",
        "        x = self.conv_block_2(x)\n",
        "        return x\n",
        "\n",
        "\n",
        "class UNetWithResnet50Encoder(nn.Module):\n",
        "    DEPTH = 6\n",
        "\n",
        "    def __init__(self, n_classes=2):\n",
        "        super().__init__()\n",
        "        resnet = torchvision.models.resnet.resnet50(pretrained=True)\n",
        "        down_blocks = []\n",
        "        up_blocks = []\n",
        "        self.input_block = nn.Sequential(*list(resnet.children()))[:3]\n",
        "        self.input_pool = list(resnet.children())[3]\n",
        "        for bottleneck in list(resnet.children()):\n",
        "            if isinstance(bottleneck, nn.Sequential):\n",
        "                down_blocks.append(bottleneck)\n",
        "        self.down_blocks = nn.ModuleList(down_blocks)\n",
        "        self.bridge = Bridge(2048, 2048)\n",
        "        up_blocks.append(UpBlockForUNetWithResNet50(2048, 1024))\n",
        "        up_blocks.append(UpBlockForUNetWithResNet50(1024, 512))\n",
        "        up_blocks.append(UpBlockForUNetWithResNet50(512, 256))\n",
        "        up_blocks.append(UpBlockForUNetWithResNet50(in_channels=128 + 64, out_channels=128,\n",
        "                                                    up_conv_in_channels=256, up_conv_out_channels=128))\n",
        "        up_blocks.append(UpBlockForUNetWithResNet50(in_channels=64 + 3, out_channels=64,\n",
        "                                                    up_conv_in_channels=128, up_conv_out_channels=64))\n",
        "\n",
        "        self.up_blocks = nn.ModuleList(up_blocks)\n",
        "\n",
        "        self.out = nn.Conv2d(64, n_classes, kernel_size=1, stride=1)\n",
        "\n",
        "    def forward(self, x, with_output_feature_map=False):\n",
        "        pre_pools = dict()\n",
        "        pre_pools[f\"layer_0\"] = x\n",
        "        x = self.input_block(x)\n",
        "        pre_pools[f\"layer_1\"] = x\n",
        "        x = self.input_pool(x)\n",
        "\n",
        "        for i, block in enumerate(self.down_blocks, 2):\n",
        "            x = block(x)\n",
        "            if i == (UNetWithResnet50Encoder.DEPTH - 1):\n",
        "                continue\n",
        "            pre_pools[f\"layer_{i}\"] = x\n",
        "\n",
        "        x = self.bridge(x)\n",
        "\n",
        "        for i, block in enumerate(self.up_blocks, 1):\n",
        "            key = f\"layer_{UNetWithResnet50Encoder.DEPTH - 1 - i}\"\n",
        "            x = block(x, pre_pools[key])\n",
        "        output_feature_map = x\n",
        "        x = self.out(x)\n",
        "        del pre_pools\n",
        "        if with_output_feature_map:\n",
        "            return x, output_feature_map\n",
        "        else:\n",
        "            return x\n",
        "'''"
      ],
      "execution_count": null,
      "outputs": [
        {
          "output_type": "execute_result",
          "data": {
            "application/vnd.google.colaboratory.intrinsic+json": {
              "type": "string"
            },
            "text/plain": [
              "'\\nresnet = torchvision.models.resnet.resnet50(pretrained=True)\\n\\n\\nclass ConvBlock(nn.Module):\\n    \"\"\"\\n    Helper module that consists of a Conv -> BN -> ReLU\\n    \"\"\"\\n\\n    def __init__(self, in_channels, out_channels, padding=1, kernel_size=3, stride=1, with_nonlinearity=True):\\n        super().__init__()\\n        self.conv = nn.Conv2d(in_channels, out_channels, padding=padding, kernel_size=kernel_size, stride=stride)\\n        self.bn = nn.BatchNorm2d(out_channels)\\n        self.relu = nn.ReLU()\\n        self.with_nonlinearity = with_nonlinearity\\n\\n    def forward(self, x):\\n        x = self.conv(x)\\n        x = self.bn(x)\\n        if self.with_nonlinearity:\\n            x = self.relu(x)\\n        return x\\n\\n\\nclass Bridge(nn.Module):\\n    \"\"\"\\n    This is the middle layer of the UNet which just consists of some\\n    \"\"\"\\n\\n    def __init__(self, in_channels, out_channels):\\n        super().__init__()\\n        self.bridge = nn.Sequential(\\n            ConvBlock(in_channels, out_channels),\\n            ConvBlock(out_channels, out_channels)\\n        )\\n\\n    def forward(self, x):\\n        return self.bridge(x)\\n\\n\\nclass UpBlockForUNetWithResNet50(nn.Module):\\n    \"\"\"\\n    Up block that encapsulates one up-sampling step which consists of Upsample -> ConvBlock -> ConvBlock\\n    \"\"\"\\n\\n    def __init__(self, in_channels, out_channels, up_conv_in_channels=None, up_conv_out_channels=None,\\n                 upsampling_method=\"conv_transpose\"):\\n        super().__init__()\\n\\n        if up_conv_in_channels == None:\\n            up_conv_in_channels = in_channels\\n        if up_conv_out_channels == None:\\n            up_conv_out_channels = out_channels\\n\\n        if upsampling_method == \"conv_transpose\":\\n            self.upsample = nn.ConvTranspose2d(up_conv_in_channels, up_conv_out_channels, kernel_size=2, stride=2)\\n        elif upsampling_method == \"bilinear\":\\n            self.upsample = nn.Sequential(\\n                nn.Upsample(mode=\\'bilinear\\', scale_factor=2),\\n                nn.Conv2d(in_channels, out_channels, kernel_size=1, stride=1)\\n            )\\n        self.conv_block_1 = ConvBlock(in_channels, out_channels)\\n        self.conv_block_2 = ConvBlock(out_channels, out_channels)\\n\\n    def forward(self, up_x, down_x):\\n        \"\"\"\\n        :param up_x: this is the output from the previous up block\\n        :param down_x: this is the output from the down block\\n        :return: upsampled feature map\\n        \"\"\"\\n        x = self.upsample(up_x)\\n        x = torch.cat([x, down_x], 1)\\n        x = self.conv_block_1(x)\\n        x = self.conv_block_2(x)\\n        return x\\n\\n\\nclass UNetWithResnet50Encoder(nn.Module):\\n    DEPTH = 6\\n\\n    def __init__(self, n_classes=2):\\n        super().__init__()\\n        resnet = torchvision.models.resnet.resnet50(pretrained=True)\\n        down_blocks = []\\n        up_blocks = []\\n        self.input_block = nn.Sequential(*list(resnet.children()))[:3]\\n        self.input_pool = list(resnet.children())[3]\\n        for bottleneck in list(resnet.children()):\\n            if isinstance(bottleneck, nn.Sequential):\\n                down_blocks.append(bottleneck)\\n        self.down_blocks = nn.ModuleList(down_blocks)\\n        self.bridge = Bridge(2048, 2048)\\n        up_blocks.append(UpBlockForUNetWithResNet50(2048, 1024))\\n        up_blocks.append(UpBlockForUNetWithResNet50(1024, 512))\\n        up_blocks.append(UpBlockForUNetWithResNet50(512, 256))\\n        up_blocks.append(UpBlockForUNetWithResNet50(in_channels=128 + 64, out_channels=128,\\n                                                    up_conv_in_channels=256, up_conv_out_channels=128))\\n        up_blocks.append(UpBlockForUNetWithResNet50(in_channels=64 + 3, out_channels=64,\\n                                                    up_conv_in_channels=128, up_conv_out_channels=64))\\n\\n        self.up_blocks = nn.ModuleList(up_blocks)\\n\\n        self.out = nn.Conv2d(64, n_classes, kernel_size=1, stride=1)\\n\\n    def forward(self, x, with_output_feature_map=False):\\n        pre_pools = dict()\\n        pre_pools[f\"layer_0\"] = x\\n        x = self.input_block(x)\\n        pre_pools[f\"layer_1\"] = x\\n        x = self.input_pool(x)\\n\\n        for i, block in enumerate(self.down_blocks, 2):\\n            x = block(x)\\n            if i == (UNetWithResnet50Encoder.DEPTH - 1):\\n                continue\\n            pre_pools[f\"layer_{i}\"] = x\\n\\n        x = self.bridge(x)\\n\\n        for i, block in enumerate(self.up_blocks, 1):\\n            key = f\"layer_{UNetWithResnet50Encoder.DEPTH - 1 - i}\"\\n            x = block(x, pre_pools[key])\\n        output_feature_map = x\\n        x = self.out(x)\\n        del pre_pools\\n        if with_output_feature_map:\\n            return x, output_feature_map\\n        else:\\n            return x\\n'"
            ]
          },
          "metadata": {
            "tags": []
          },
          "execution_count": 14
        }
      ]
    },
    {
      "cell_type": "code",
      "metadata": {
        "id": "i0lk0g7P_qtR"
      },
      "source": [
        "import torch\n",
        "import torch.nn as nn\n",
        "from torchvision import models\n",
        "\n",
        "class DoubleConv(nn.Module):\n",
        "    \"\"\"(convolution => [BN] => ReLU) * 2\"\"\"\n",
        "\n",
        "    def __init__(self, in_channels, out_channels, mid_channels=None):\n",
        "        super().__init__()\n",
        "        if not mid_channels:\n",
        "            mid_channels = out_channels\n",
        "        self.double_conv = nn.Sequential(\n",
        "            nn.Conv2d(in_channels, mid_channels, kernel_size=3, padding=1),\n",
        "            nn.BatchNorm2d(mid_channels),\n",
        "            nn.ReLU(inplace=True),\n",
        "            nn.Conv2d(mid_channels, out_channels, kernel_size=3, padding=1),\n",
        "            nn.BatchNorm2d(out_channels),\n",
        "            nn.ReLU(inplace=True)\n",
        "        )\n",
        "\n",
        "    def forward(self, x):\n",
        "        return self.double_conv(x)\n",
        "\n",
        "\n",
        "class Down(nn.Module):\n",
        "    \"\"\"Downscaling with maxpool then double conv\"\"\"\n",
        "\n",
        "    def __init__(self, in_channels, out_channels):\n",
        "        super().__init__()\n",
        "        self.maxpool_conv = nn.Sequential(\n",
        "            nn.MaxPool2d(2),\n",
        "            DoubleConv(in_channels, out_channels)\n",
        "        )\n",
        "\n",
        "    def forward(self, x):\n",
        "        return self.maxpool_conv(x)\n",
        "\n",
        "\n",
        "class Up(nn.Module):\n",
        "    \"\"\"Upscaling then double conv\"\"\"\n",
        "\n",
        "    def __init__(self, in_channels, out_channels, bilinear=True):\n",
        "        super().__init__()\n",
        "\n",
        "        # if bilinear, use the normal convolutions to reduce the number of channels\n",
        "        if bilinear:\n",
        "            self.up = nn.Upsample(scale_factor=2, mode='bilinear', align_corners=True)\n",
        "            self.conv = DoubleConv(in_channels, out_channels, in_channels // 2)\n",
        "        else:\n",
        "            self.up = nn.ConvTranspose2d(in_channels , in_channels // 2, kernel_size=2, stride=2)\n",
        "            self.conv = DoubleConv(in_channels, out_channels)\n",
        "\n",
        "\n",
        "    def forward(self, x1, x2):\n",
        "        x1 = self.up(x1)\n",
        "        # input is CHW\n",
        "        diffY = x2.size()[2] - x1.size()[2]\n",
        "        diffX = x2.size()[3] - x1.size()[3]\n",
        "\n",
        "        x1 = F.pad(x1, [diffX // 2, diffX - diffX // 2,\n",
        "                        diffY // 2, diffY - diffY // 2])\n",
        "        # if you have padding issues, see\n",
        "        # https://github.com/HaiyongJiang/U-Net-Pytorch-Unstructured-Buggy/commit/0e854509c2cea854e247a9c615f175f76fbb2e3a\n",
        "        # https://github.com/xiaopeng-liao/Pytorch-UNet/commit/8ebac70e633bac59fc22bb5195e513d5832fb3bd\n",
        "        x = torch.cat([x2, x1], dim=1)\n",
        "        return self.conv(x)\n",
        "\n",
        "\n",
        "class OutConv(nn.Module):\n",
        "    def __init__(self, in_channels, out_channels):\n",
        "        super(OutConv, self).__init__()\n",
        "        self.conv = nn.Conv2d(in_channels, out_channels, kernel_size=1)\n",
        "\n",
        "    def forward(self, x):\n",
        "        return self.conv(x)\n",
        "\n",
        "class UNet(nn.Module):\n",
        "    def __init__(self, n_channels=1, n_classes=2, bilinear=True):\n",
        "        super(UNet, self).__init__()\n",
        "        self.n_channels = n_channels\n",
        "        self.n_classes = n_classes\n",
        "        self.bilinear = bilinear\n",
        "\n",
        "        self.inc = DoubleConv(n_channels, 64)\n",
        "        self.down1 = Down(64, 128)\n",
        "        self.down2 = Down(128, 256)\n",
        "        self.down3 = Down(256, 512)\n",
        "        factor = 2 if bilinear else 1\n",
        "        self.down4 = Down(512, 1024 // factor)\n",
        "        self.up1 = Up(1024, 512 // factor, bilinear)\n",
        "        self.up2 = Up(512, 256 // factor, bilinear)\n",
        "        self.up3 = Up(256, 128 // factor, bilinear)\n",
        "        self.up4 = Up(128, 64, bilinear)\n",
        "        self.outc = OutConv(64, n_classes)\n",
        "\n",
        "    def forward(self, x):\n",
        "        x1 = self.inc(x)\n",
        "        x2 = self.down1(x1)\n",
        "        x3 = self.down2(x2)\n",
        "        x4 = self.down3(x3)\n",
        "        x5 = self.down4(x4)\n",
        "        x = self.up1(x5, x4)\n",
        "        x = self.up2(x, x3)\n",
        "        x = self.up3(x, x2)\n",
        "        x = self.up4(x, x1)\n",
        "        #print(x.shape)\n",
        "        logits = self.outc(x)\n",
        "        #print(logits.shape)\n",
        "        #print(ok)\n",
        "        return logits"
      ],
      "execution_count": null,
      "outputs": []
    },
    {
      "cell_type": "code",
      "metadata": {
        "id": "uVAi5pdLjMqv"
      },
      "source": [
        "from collections import defaultdict\n",
        "import torch.nn.functional as F\n",
        "import copy\n",
        "from sklearn.metrics import jaccard_similarity_score\n",
        "\n",
        "def dice_loss(pred, target, smooth = 1.):\n",
        "    pred = pred.contiguous()\n",
        "    target = target.contiguous()    \n",
        "\n",
        "    intersection = (pred * target).sum(dim=2).sum(dim=2)\n",
        "    \n",
        "    loss = (1 - ((2. * intersection + smooth) / (pred.sum(dim=2).sum(dim=2) + target.sum(dim=2).sum(dim=2) + smooth)))\n",
        "    \n",
        "    return loss.mean()\n",
        "\n",
        "smooth = 1e-12\n",
        "\n",
        "def jaccard_approx(pred, target, smooth=1e-12 ):\n",
        "    #intersection = K.sum(y_true * y_pred, axis=[0, -1, -2])\n",
        "    intersection = (pred * target).sum(dim=2).sum(dim=2)\n",
        "    #sum_ = K.sum(y_true + y_pred, axis=[0, -1, -2])\n",
        "    sum_ = (pred.sum(dim=2).sum(dim=2) + target.sum(dim=2).sum(dim=2))\n",
        "\n",
        "    jac = (intersection + smooth) / (sum_ - intersection + smooth)\n",
        "\n",
        "    return jac.mean()\n",
        "\n",
        "def calc_loss(pred, target, metrics, bce_weight=0.5):\n",
        "    #print(pred.shape)\n",
        "    #print(target.shape)\n",
        "    bce = F.binary_cross_entropy_with_logits(pred, target)\n",
        "    MSE = torch.nn.MSELoss()\n",
        "    mse = MSE(pred,target)\n",
        "    #pred = F.sigmoid(pred)\n",
        "\n",
        "    #dice = dice_loss(pred, target)\n",
        "    #loss = bce * bce_weight + dice * (1 - bce_weight)\n",
        "    loss = 10*bce + 1000*mse\n",
        "    #loss = torch.log(jaccard_approx(pred,target))\n",
        "    #loss = jaccard_approx(pred, target )\n",
        "    #loss = dice\n",
        "\n",
        "    metrics['loss'] += loss.data.cpu().numpy() * target.size(0)\n",
        "\n",
        "\n",
        "    return loss\n",
        "from sklearn.metrics import mean_squared_error\n",
        "\n",
        "def update_errors(true_values,predicted_values,size):\n",
        "    \"\"\"\n",
        "    Calculate errors and standard deviation based on current\n",
        "    true and predicted values.\n",
        "    \"\"\"\n",
        "    err = [true - predicted for true, predicted in\n",
        "                zip(true_values, predicted_values)]\n",
        "    abs_err = [abs(error) for error in err]\n",
        "    mean_err = sum(err) / size\n",
        "    mean_abs_err = sum(abs_err) / size\n",
        "    #std = np.array(err).std()\n",
        "\n",
        "\n",
        "\n",
        "    #rmse = mean_squared_error(true_values, predicted_values, squared=False)\n",
        "\n",
        "    return mean_abs_err\n",
        "\n",
        "def print_metrics(metrics, epoch_samples, phase):\n",
        "    outputs = []\n",
        "    for k in metrics.keys():\n",
        "        outputs.append(\"{}: {:4f}\".format(k, metrics[k] / epoch_samples))\n",
        "\n",
        "    print(\"{}: {}\".format(phase, \", \".join(outputs)))\n",
        "\n",
        "\n",
        "train_loss = []\n",
        "test_loss = []\n",
        "mean_abs_err_train = []\n",
        "mean_abs_err_test = []\n",
        "\n",
        "def train_model(model, optimizer, scheduler, num_epochs=10):\n",
        "    #best_model_wts = copy.deepcopy(model.state_dict())\n",
        "    best_loss = 1e10\n",
        "\n",
        "    for epoch in range(num_epochs):\n",
        "        print('Epoch {}/{}'.format(epoch, num_epochs - 1))\n",
        "        print('-' * 10)\n",
        "\n",
        "        since = time.time()\n",
        "\n",
        "      # Each epoch has a training and validation phase\n",
        "\n",
        "        \n",
        "        for param_group in optimizer.param_groups:\n",
        "            print(\"LR\", param_group['lr'])\n",
        "        print('Started training')\n",
        "\n",
        "        model.train()  # Set model to training mode\n",
        "\n",
        "        true_values = []\n",
        "        predicted_values = []\n",
        "\n",
        "\n",
        "        metrics = defaultdict(float)\n",
        "        epoch_samples = 0\n",
        "\n",
        "        for inputs,labels in dataloader['train']:\n",
        "            #print(dataloaders['train'])\n",
        "            #print('Entered')\n",
        "            inputs = inputs.to(device)\n",
        "            #print(inputs['image'].shape)\n",
        "            labels = labels.to(device)  \n",
        "\n",
        "            # zero the parameter gradients\n",
        "            optimizer.zero_grad()\n",
        "\n",
        "            # forward\n",
        "            # track history if only in train\n",
        "\n",
        "            outputs = model(inputs)\n",
        "            #outputs = torch.max(outputs,torch.tensor([0.]).to(device))\n",
        "            loss = calc_loss(outputs, labels, metrics)\n",
        "\n",
        "            # backward + optimize only if in training phase\n",
        "            loss.backward()\n",
        "            optimizer.step()\n",
        "\n",
        "            # statistics\n",
        "            epoch_samples += inputs.size(0)\n",
        "\n",
        "\n",
        "            # loop over batch samples\n",
        "            for true, predicted in zip(labels, outputs):\n",
        "                # integrate a density map to get no. of objects\n",
        "                # note: density maps were normalized to 100 * no. of objects\n",
        "                #       to make network learn better\n",
        "                true_counts = torch.sum(true).item() / 100\n",
        "                #predicted_counts = torch.sum(predicted).item() / 100\n",
        "\n",
        "                p=torch.nn.functional.relu(predicted).cpu().detach().numpy() # contains a prediction result\n",
        "                # normalize threshold to 0 or 1\n",
        "                i = p >= 0.5\n",
        "                p[i] = 1\n",
        "                i = p < 0.5\n",
        "                p[i] = 0\n",
        "                labeled_array, num_features = lab(p, return_num=True)\n",
        "                #predicted_counts = torch.sum(predicted).item() / 100\n",
        "                predicted_counts = num_features\n",
        "\n",
        "                # update current epoch results\n",
        "                true_values.append(true_counts)\n",
        "                predicted_values.append(predicted_counts)\n",
        "\n",
        "\n",
        "        print_metrics(metrics, epoch_samples, 'train')\n",
        "        epoch_loss = metrics['loss'] / epoch_samples\n",
        "        train_loss.append(epoch_loss)\n",
        "\n",
        "        mean_abs_err = update_errors(true_values,predicted_values,len(dataset['train']))\n",
        "        mean_abs_err_train.append(mean_abs_err)\n",
        "\n",
        "        #torch.save(model,f'/content/drive/My Drive/cars_latest/resunet50_epoch_{e}_1.pt')\n",
        "\n",
        "        #train_score, trs = calc_jacc_img_msk(model, inputs['image'].cpu().numpy(), inputs['segmented_mask'].cpu().numpy(), 8, 1)\n",
        "        scheduler.step()\n",
        "\n",
        "\n",
        "        #set model in evaluation mode\n",
        "        model.eval()\n",
        "        avg_loss = 0\n",
        "        true_values = []\n",
        "        predicted_values = []\n",
        "\n",
        "        metrics = defaultdict(float)\n",
        "        epoch_samples=0\n",
        "        \n",
        "        for inputs,labels in dataloader['valid']:\n",
        "\n",
        "            #print(dataloaders['train'])\n",
        "            inputs = inputs.to(device)\n",
        "            #print(inputs['image'].shape)\n",
        "            labels = labels.to(device)            \n",
        "\n",
        "            outputs = model(inputs)\n",
        "            #outputs = torch.max(outputs,torch.tensor([0.]).to(device))\n",
        "\n",
        "            loss = calc_loss(outputs, labels, metrics)\n",
        "            epoch_samples += inputs.size(0)\n",
        "\n",
        "            # loop over batch samples\n",
        "            for true, predicted in zip(labels, outputs):\n",
        "                # integrate a density map to get no. of objects\n",
        "                # note: density maps were normalized to 100 * no. of objects\n",
        "                #       to make network learn better\n",
        "                true_counts = torch.sum(true).item() / 100\n",
        "                #predicted_counts = torch.sum(predicted).item() / 100\n",
        "                \n",
        "                p=torch.nn.functional.relu(predicted).cpu().detach().numpy() # contains a prediction result\n",
        "                # normalize threshold to 0 or 1\n",
        "                i = p >= 0.5\n",
        "                p[i] = 1\n",
        "                i = p < 0.5\n",
        "                p[i] = 0\n",
        "                labeled_array, num_features = lab(p, return_num=True)\n",
        "                #predicted_counts = torch.sum(predicted).item() / 100\n",
        "                predicted_counts = num_features\n",
        "                \n",
        "\n",
        "                # update current epoch results\n",
        "                true_values.append(true_counts)\n",
        "                predicted_values.append(predicted_counts)\n",
        "        \n",
        "        print_metrics(metrics, epoch_samples, 'val')\n",
        "        epoch_loss = metrics['loss'] / epoch_samples\n",
        "        test_loss.append(epoch_loss)\n",
        "\n",
        "\n",
        "        mean_abs_err = update_errors(true_values,predicted_values,len(dataset['valid']))\n",
        "        mean_abs_err_test.append(mean_abs_err)\n",
        "\n",
        "        print(true_values)\n",
        "        print(predicted_values)\n",
        "\n",
        "\n",
        "        #print(\"\\n\")\n",
        "        print(\"Epoch: \", epoch, \"Train Loss: \", train_loss[-1], \"Test Loss: \", test_loss[-1], \"Train MAE: \", mean_abs_err_train[-1], \"Test MAE: \", mean_abs_err_test[-1])\n",
        "\n",
        "        time_elapsed = time.time() - since\n",
        "        print('{:.0f}m {:.0f}s'.format(time_elapsed // 60, time_elapsed % 60))\n",
        "        print(\"\\n\")\n",
        "        #print(ok)\n",
        "        if (epoch%10==0) or (epoch==(num_epochs-1)):\n",
        "      \n",
        "          torch.save({\n",
        "                'epoch': epoch,\n",
        "                'model_state_dict': model.state_dict(),\n",
        "                'optimizer_state_dict': optimizer.state_dict(),\n",
        "                'train_loss': train_loss[-1],\n",
        "                }, f'/content/drive/My Drive/UCSD_Counting/epoch_{epoch+10+17+11}_trainmae_{mean_abs_err_train[-1]}_testmae_{mean_abs_err_test[-1]}_unet.pt')\n",
        "        \n",
        "\n",
        "\n",
        "    #print('Best val loss: {:4f}'.format(best_loss))\n",
        "\n",
        "    # load best model weights\n",
        "    #model.load_state_dict(best_model_wts)\n",
        "    return model"
      ],
      "execution_count": null,
      "outputs": []
    },
    {
      "cell_type": "code",
      "metadata": {
        "id": "5fDknUlDe0GL"
      },
      "source": [
        "\"\"\"Train chosen model on selected dataset.\"\"\"\n",
        "# use GPU if avilable\n",
        "device = torch.device('cuda:0' if torch.cuda.is_available() else 'cpu')\n",
        "\n",
        "dataset = {}     # training and validation HDF5-based datasets\n",
        "dataloader = {}  # training and validation dataloaders\n",
        "\n",
        "for mode in ['train', 'valid']:\n",
        "    # expected HDF5 files in dataset_name/(train | valid).h5\n",
        "    data_path = os.path.join(dataset_name, f\"{mode}.h5\")\n",
        "    # turn on flips only for training dataset\n",
        "    dataset[mode] = H5Dataset(data_path,\n",
        "                              horizontal_flip if mode == 'train' else 0,\n",
        "                              vertical_flip if mode == 'train' else 0)\n",
        "    dataloader[mode] = torch.utils.data.DataLoader(dataset[mode],\n",
        "                                                    batch_size=batch_size)"
      ],
      "execution_count": null,
      "outputs": []
    },
    {
      "cell_type": "code",
      "metadata": {
        "id": "e4L_dqcgdkhm"
      },
      "source": [
        ""
      ],
      "execution_count": null,
      "outputs": []
    },
    {
      "cell_type": "code",
      "metadata": {
        "id": "XoW_br9tnkI_"
      },
      "source": [
        "#!pip install segmentation-models-pytorch\n"
      ],
      "execution_count": null,
      "outputs": []
    },
    {
      "cell_type": "code",
      "metadata": {
        "id": "r40UfALWnYPa"
      },
      "source": [
        "#import segmentation_models_pytorch as smp\n"
      ],
      "execution_count": null,
      "outputs": []
    },
    {
      "cell_type": "code",
      "metadata": {
        "colab": {
          "base_uri": "https://localhost:8080/",
          "height": 53
        },
        "id": "nw4yGxG7nqDz",
        "outputId": "f36502d5-dbec-41af-c50e-c722689cadee"
      },
      "source": [
        "'''\n",
        "model = smp.Unet(\n",
        "    encoder_name=\"resnet34\",        # choose encoder, e.g. mobilenet_v2 or efficientnet-b7\n",
        "    encoder_weights=\"imagenet\",     # use `imagenet` pre-trained weights for encoder initialization\n",
        "    in_channels=1,                  # model input channels (1 for gray-scale images, 3 for RGB, etc.)\n",
        "    classes=1,                      # model output channels (number of classes in your dataset)\n",
        ")\n",
        "'''"
      ],
      "execution_count": null,
      "outputs": [
        {
          "output_type": "execute_result",
          "data": {
            "application/vnd.google.colaboratory.intrinsic+json": {
              "type": "string"
            },
            "text/plain": [
              "'\\nmodel = smp.Unet(\\n    encoder_name=\"resnet34\",        # choose encoder, e.g. mobilenet_v2 or efficientnet-b7\\n    encoder_weights=\"imagenet\",     # use `imagenet` pre-trained weights for encoder initialization\\n    in_channels=1,                  # model input channels (1 for gray-scale images, 3 for RGB, etc.)\\n    classes=1,                      # model output channels (number of classes in your dataset)\\n)\\n'"
            ]
          },
          "metadata": {
            "tags": []
          },
          "execution_count": 20
        }
      ]
    },
    {
      "cell_type": "code",
      "metadata": {
        "id": "6lflc3hkn7F3"
      },
      "source": [
        ""
      ],
      "execution_count": null,
      "outputs": []
    },
    {
      "cell_type": "code",
      "metadata": {
        "colab": {
          "base_uri": "https://localhost:8080/"
        },
        "id": "36iv722FhKt1",
        "outputId": "0e33210d-32d3-4e1d-81d2-1d198815d2cc"
      },
      "source": [
        "# define loss function\n",
        "#model = UNetWithResnet50Encoder(n_classes=1)\n",
        "model = UNet(n_classes=1)\n",
        "\n",
        "# setup SGD\n",
        "optimizer = torch.optim.Adam(model.parameters(), lr=0.0001,weight_decay=0.005)\n",
        "\n",
        "\n",
        "exp_lr_scheduler = lr_scheduler.StepLR(optimizer, step_size=7, gamma=0.1)\n",
        "\n",
        "gpu_flag = torch.cuda.is_available()\n",
        "print(gpu_flag)\n",
        "if gpu_flag:\n",
        "    model = model.cuda()\n",
        "device = torch.device('cuda' if torch.cuda.is_available() else 'cpu')\n",
        "\n",
        "#print(model)"
      ],
      "execution_count": null,
      "outputs": [
        {
          "output_type": "stream",
          "text": [
            "True\n"
          ],
          "name": "stdout"
        }
      ]
    },
    {
      "cell_type": "code",
      "metadata": {
        "id": "TL_vdu-rAe0b"
      },
      "source": [
        "path = '/content/drive/My Drive/UCSD_Counting/epoch_10_trainmae_5.8952401936848995_testmae_3.6059998535156277_unet.pt'\n",
        "model_class = torch.load(path)"
      ],
      "execution_count": null,
      "outputs": []
    },
    {
      "cell_type": "code",
      "metadata": {
        "colab": {
          "base_uri": "https://localhost:8080/"
        },
        "id": "fgU5-5FpCxKC",
        "outputId": "0de923e4-e869-49fc-db81-6b21a6f96f31"
      },
      "source": [
        "model.load_state_dict(model_class['model_state_dict'])"
      ],
      "execution_count": null,
      "outputs": [
        {
          "output_type": "execute_result",
          "data": {
            "text/plain": [
              "<All keys matched successfully>"
            ]
          },
          "metadata": {
            "tags": []
          },
          "execution_count": 24
        }
      ]
    },
    {
      "cell_type": "code",
      "metadata": {
        "colab": {
          "base_uri": "https://localhost:8080/",
          "height": 834
        },
        "id": "gqNcu_gBhhsd",
        "outputId": "36651a66-68b0-4b35-fe1e-499bcd7c17b2"
      },
      "source": [
        "model_trained = train_model(model, optimizer, exp_lr_scheduler, num_epochs=50)"
      ],
      "execution_count": null,
      "outputs": [
        {
          "output_type": "stream",
          "text": [
            "Epoch 0/49\n",
            "----------\n",
            "LR 1.0000000000000004e-08\n",
            "Started training\n",
            "train: loss: 90.051229\n",
            "val: loss: 434.950633\n",
            "[21.0, 21.0, 21.0, 21.0, 21.0, 21.0, 21.0, 21.0, 21.0, 21.00000244140625, 21.00000244140625, 21.0, 21.0, 21.0, 21.0, 21.0, 21.0, 21.0, 21.0, 21.0, 22.0, 22.0, 22.0, 22.00000244140625, 22.0, 22.0, 22.0, 22.0, 22.0, 22.0, 22.0, 22.0, 22.0, 22.0, 22.0, 22.0, 22.0, 22.0, 22.0, 22.0, 22.0, 22.0, 22.0, 22.0, 22.0, 22.0, 22.0, 22.0, 22.0, 22.0, 27.0, 27.0, 27.0, 27.0, 27.0, 27.0, 27.0, 27.0, 27.0, 27.0, 27.0, 26.0, 26.0, 26.0, 26.0, 26.00000244140625, 26.0, 26.0, 26.0, 26.0, 26.00000244140625, 26.0, 26.0, 26.0, 26.00000244140625, 28.0, 28.0, 28.0, 28.00000244140625, 28.0, 28.00000244140625, 28.0, 28.0, 28.0, 28.0, 29.0, 29.00000244140625, 29.0, 29.0, 29.0, 31.0, 31.0, 31.0, 31.0, 31.00000244140625, 31.0, 27.0, 27.0, 27.0, 27.0, 26.0, 25.0, 25.0, 25.0, 25.0, 25.0, 25.0, 25.0, 25.0, 24.0, 24.0, 24.0, 24.0, 24.0, 24.0, 25.0, 25.00000244140625, 25.0, 25.0, 25.0, 25.0, 25.0, 25.0, 25.0, 25.0, 25.0, 25.0, 25.0, 25.0, 25.0, 28.0, 27.0, 27.0, 27.0, 27.0, 27.0, 27.0, 27.0, 27.00000244140625, 26.0, 26.00000244140625, 24.00000244140625, 24.0, 24.0, 25.0, 25.0, 23.0, 23.0, 23.0, 23.0, 17.0, 17.0, 17.0, 17.0, 17.000001220703126, 18.000001220703126, 18.0, 18.0, 18.0, 18.000001220703126, 18.0, 16.0, 16.0, 16.0, 16.0, 16.0, 16.0, 16.0, 16.0, 16.0, 16.0, 16.000001220703126, 16.000001220703126, 16.0, 16.0, 16.000001220703126, 15.000001220703124, 15.0, 15.0, 15.0, 16.0, 16.0, 15.0, 15.0, 15.000001220703124, 15.0, 15.0, 15.0, 15.0, 15.0, 15.0, 15.0, 15.0, 15.0, 15.0, 15.0, 14.0, 14.0, 14.000001220703124, 14.000001220703124, 23.0, 23.0, 23.0, 23.0, 23.0, 23.0, 22.0, 22.0, 22.0, 22.0, 22.0, 22.0, 22.0, 23.0, 23.0, 23.0, 24.0, 23.0, 23.0, 23.0, 23.0, 23.0, 23.0, 23.0, 22.0, 22.0, 22.0, 22.0, 22.0, 22.0, 22.0, 22.0, 22.0, 22.0, 24.0, 24.0, 24.0, 24.0, 24.0, 24.0, 24.0, 24.0, 24.0, 24.0, 24.0, 24.0, 21.0, 21.00000244140625, 21.0, 21.0, 36.00000244140625, 36.0, 36.0, 37.0, 37.0, 37.0, 37.0, 37.0, 37.0, 37.0, 38.0, 38.0, 38.0, 38.0, 38.0, 38.0, 38.0, 38.0, 38.0, 38.0, 38.0, 38.0, 38.0, 39.00000244140625, 39.00000244140625, 39.00000244140625, 39.0, 39.00000244140625, 39.0, 40.0, 40.0, 41.0, 41.0, 41.0, 41.0, 42.0, 42.0, 42.0, 42.0, 43.0, 43.0, 42.0, 42.0000048828125, 42.0, 42.0, 42.0, 41.0, 41.0, 41.0, 41.0, 45.0, 45.0000048828125, 45.0, 46.0, 46.0, 46.0, 47.0, 47.0, 47.0, 47.0, 46.0, 47.0, 47.0, 47.0, 47.0, 48.0, 48.0, 48.0, 48.0, 48.0, 48.0, 48.0, 48.0, 49.0, 50.0, 50.0, 49.0, 49.0, 49.0, 50.0000048828125, 50.0, 49.0, 50.0, 50.0, 51.0, 51.0, 51.0, 50.0, 51.0, 51.0, 51.0, 51.0, 51.0, 51.0, 51.0, 51.0, 46.0, 46.0, 46.0000048828125, 46.0, 43.0, 42.0, 42.0, 42.0, 42.0, 44.0, 42.0, 42.0, 42.0, 42.0, 42.0, 41.0, 41.0, 41.0, 41.0, 41.0, 40.0, 40.0, 40.00000244140625, 40.0, 39.0, 39.0, 39.0, 39.0000048828125, 39.0, 40.00000244140625, 40.00000244140625, 40.0, 40.0000048828125, 40.0, 41.0, 40.0, 39.0, 39.0, 39.0, 39.0, 38.0, 38.00000244140625, 38.0, 38.0, 39.0, 39.0, 39.0, 39.0, 39.0, 39.0, 32.0, 32.0, 32.00000244140625, 32.0, 29.0, 29.0, 29.0, 29.0, 29.00000244140625, 29.0, 29.0, 29.0, 29.0, 29.0, 29.0, 28.0, 28.0, 28.0, 28.0, 29.0, 28.0, 28.0, 28.0, 28.0, 29.0, 28.0, 28.0, 28.0, 28.00000244140625, 28.0, 28.00000244140625, 28.0, 28.0, 28.00000244140625, 28.0, 27.0, 27.0, 27.0, 27.0, 27.0, 27.00000244140625, 27.0, 27.0, 27.0, 27.0, 27.0, 27.0, 27.00000244140625, 27.0, 27.00000244140625, 27.0, 27.0, 27.0, 27.0, 23.0, 23.0, 23.0, 23.0, 23.0, 23.0, 22.0, 22.0, 22.0, 22.0, 22.0, 22.0, 22.0, 22.0, 22.0, 22.0, 22.0, 22.0, 22.0, 22.0, 22.0, 22.0, 22.0, 22.0, 22.0, 22.0, 22.0, 22.0, 22.0, 22.0, 22.0, 20.000001220703126, 20.0, 20.000001220703126, 20.000001220703126, 21.0, 21.0, 21.0, 21.0, 21.00000244140625, 21.0, 21.0, 21.0, 21.0, 21.0, 21.0, 20.000001220703126, 20.0, 20.0, 20.00000244140625]\n",
            "[21, 21, 22, 26, 25, 21, 23, 25, 23, 21, 22, 20, 21, 22, 22, 21, 20, 22, 21, 21, 20, 22, 21, 22, 20, 19, 20, 20, 20, 18, 19, 21, 20, 18, 21, 22, 21, 23, 22, 24, 21, 23, 22, 21, 23, 23, 23, 24, 23, 25, 28, 26, 24, 24, 26, 27, 23, 23, 27, 25, 24, 25, 30, 26, 27, 22, 28, 24, 24, 27, 27, 28, 26, 22, 25, 26, 25, 27, 26, 26, 27, 27, 27, 26, 23, 27, 23, 26, 27, 27, 25, 30, 30, 28, 26, 25, 24, 24, 26, 28, 23, 26, 23, 25, 26, 26, 27, 27, 31, 27, 27, 26, 28, 26, 24, 28, 24, 27, 28, 25, 28, 29, 28, 29, 28, 28, 27, 25, 28, 28, 26, 27, 25, 25, 26, 30, 27, 27, 29, 28, 25, 27, 26, 25, 25, 28, 27, 26, 28, 28, 22, 21, 22, 21, 20, 19, 20, 19, 20, 16, 16, 16, 17, 16, 16, 16, 15, 17, 16, 17, 19, 19, 18, 16, 17, 16, 16, 18, 18, 16, 13, 15, 16, 15, 18, 17, 18, 17, 17, 15, 16, 16, 17, 15, 15, 17, 18, 16, 15, 15, 27, 25, 26, 23, 22, 21, 22, 22, 22, 24, 26, 24, 25, 25, 27, 24, 25, 25, 27, 29, 27, 24, 26, 23, 25, 25, 22, 24, 25, 25, 25, 25, 27, 26, 24, 24, 25, 25, 26, 22, 23, 24, 23, 23, 22, 22, 23, 22, 23, 25, 34, 30, 34, 38, 38, 36, 37, 35, 39, 35, 34, 37, 38, 41, 43, 40, 35, 37, 39, 37, 36, 37, 38, 38, 37, 39, 36, 39, 38, 41, 38, 39, 39, 38, 40, 38, 40, 40, 42, 44, 41, 42, 46, 43, 48, 40, 41, 47, 48, 47, 45, 43, 48, 50, 45, 40, 45, 48, 46, 51, 48, 42, 46, 48, 49, 48, 48, 44, 41, 42, 45, 47, 46, 41, 52, 53, 47, 47, 48, 44, 48, 46, 45, 44, 43, 44, 43, 44, 43, 40, 44, 44, 44, 39, 38, 41, 42, 46, 47, 44, 43, 43, 40, 39, 39, 40, 38, 38, 39, 37, 38, 36, 41, 39, 35, 37, 34, 36, 39, 39, 37, 35, 37, 33, 38, 40, 37, 38, 37, 39, 36, 39, 39, 39, 36, 35, 36, 37, 40, 34, 35, 32, 38, 36, 34, 35, 36, 34, 36, 36, 28, 32, 30, 32, 31, 29, 28, 30, 27, 33, 31, 32, 34, 37, 34, 34, 32, 28, 29, 30, 27, 26, 28, 24, 25, 26, 29, 26, 27, 25, 25, 26, 28, 28, 25, 27, 28, 27, 26, 27, 25, 26, 25, 26, 26, 28, 30, 28, 25, 26, 27, 23, 24, 22, 24, 25, 24, 23, 23, 24, 27, 25, 22, 27, 26, 26, 22, 22, 21, 25, 26, 26, 24, 24, 26, 24, 23, 21, 22, 22, 25, 24, 23, 27, 25, 25, 25, 24, 23, 24, 22, 22, 24, 21, 21, 24, 26, 22, 21, 20]\n",
            "Epoch:  0 Train Loss:  90.05122866821289 Test Loss:  434.95063256835937 Train MAE:  1.6360000748697903 Test MAE:  2.304000053710938\n",
            "0m 34s\n",
            "\n",
            "\n",
            "Epoch 1/49\n",
            "----------\n",
            "LR 1.0000000000000004e-08\n",
            "Started training\n",
            "train: loss: 90.025222\n",
            "val: loss: 434.857414\n",
            "[21.0, 21.0, 21.0, 21.0, 21.0, 21.0, 21.0, 21.0, 21.0, 21.00000244140625, 21.00000244140625, 21.0, 21.0, 21.0, 21.0, 21.0, 21.0, 21.0, 21.0, 21.0, 22.0, 22.0, 22.0, 22.00000244140625, 22.0, 22.0, 22.0, 22.0, 22.0, 22.0, 22.0, 22.0, 22.0, 22.0, 22.0, 22.0, 22.0, 22.0, 22.0, 22.0, 22.0, 22.0, 22.0, 22.0, 22.0, 22.0, 22.0, 22.0, 22.0, 22.0, 27.0, 27.0, 27.0, 27.0, 27.0, 27.0, 27.0, 27.0, 27.0, 27.0, 27.0, 26.0, 26.0, 26.0, 26.0, 26.00000244140625, 26.0, 26.0, 26.0, 26.0, 26.00000244140625, 26.0, 26.0, 26.0, 26.00000244140625, 28.0, 28.0, 28.0, 28.00000244140625, 28.0, 28.00000244140625, 28.0, 28.0, 28.0, 28.0, 29.0, 29.00000244140625, 29.0, 29.0, 29.0, 31.0, 31.0, 31.0, 31.0, 31.00000244140625, 31.0, 27.0, 27.0, 27.0, 27.0, 26.0, 25.0, 25.0, 25.0, 25.0, 25.0, 25.0, 25.0, 25.0, 24.0, 24.0, 24.0, 24.0, 24.0, 24.0, 25.0, 25.00000244140625, 25.0, 25.0, 25.0, 25.0, 25.0, 25.0, 25.0, 25.0, 25.0, 25.0, 25.0, 25.0, 25.0, 28.0, 27.0, 27.0, 27.0, 27.0, 27.0, 27.0, 27.0, 27.00000244140625, 26.0, 26.00000244140625, 24.00000244140625, 24.0, 24.0, 25.0, 25.0, 23.0, 23.0, 23.0, 23.0, 17.0, 17.0, 17.0, 17.0, 17.000001220703126, 18.000001220703126, 18.0, 18.0, 18.0, 18.000001220703126, 18.0, 16.0, 16.0, 16.0, 16.0, 16.0, 16.0, 16.0, 16.0, 16.0, 16.0, 16.000001220703126, 16.000001220703126, 16.0, 16.0, 16.000001220703126, 15.000001220703124, 15.0, 15.0, 15.0, 16.0, 16.0, 15.0, 15.0, 15.000001220703124, 15.0, 15.0, 15.0, 15.0, 15.0, 15.0, 15.0, 15.0, 15.0, 15.0, 15.0, 14.0, 14.0, 14.000001220703124, 14.000001220703124, 23.0, 23.0, 23.0, 23.0, 23.0, 23.0, 22.0, 22.0, 22.0, 22.0, 22.0, 22.0, 22.0, 23.0, 23.0, 23.0, 24.0, 23.0, 23.0, 23.0, 23.0, 23.0, 23.0, 23.0, 22.0, 22.0, 22.0, 22.0, 22.0, 22.0, 22.0, 22.0, 22.0, 22.0, 24.0, 24.0, 24.0, 24.0, 24.0, 24.0, 24.0, 24.0, 24.0, 24.0, 24.0, 24.0, 21.0, 21.00000244140625, 21.0, 21.0, 36.00000244140625, 36.0, 36.0, 37.0, 37.0, 37.0, 37.0, 37.0, 37.0, 37.0, 38.0, 38.0, 38.0, 38.0, 38.0, 38.0, 38.0, 38.0, 38.0, 38.0, 38.0, 38.0, 38.0, 39.00000244140625, 39.00000244140625, 39.00000244140625, 39.0, 39.00000244140625, 39.0, 40.0, 40.0, 41.0, 41.0, 41.0, 41.0, 42.0, 42.0, 42.0, 42.0, 43.0, 43.0, 42.0, 42.0000048828125, 42.0, 42.0, 42.0, 41.0, 41.0, 41.0, 41.0, 45.0, 45.0000048828125, 45.0, 46.0, 46.0, 46.0, 47.0, 47.0, 47.0, 47.0, 46.0, 47.0, 47.0, 47.0, 47.0, 48.0, 48.0, 48.0, 48.0, 48.0, 48.0, 48.0, 48.0, 49.0, 50.0, 50.0, 49.0, 49.0, 49.0, 50.0000048828125, 50.0, 49.0, 50.0, 50.0, 51.0, 51.0, 51.0, 50.0, 51.0, 51.0, 51.0, 51.0, 51.0, 51.0, 51.0, 51.0, 46.0, 46.0, 46.0000048828125, 46.0, 43.0, 42.0, 42.0, 42.0, 42.0, 44.0, 42.0, 42.0, 42.0, 42.0, 42.0, 41.0, 41.0, 41.0, 41.0, 41.0, 40.0, 40.0, 40.00000244140625, 40.0, 39.0, 39.0, 39.0, 39.0000048828125, 39.0, 40.00000244140625, 40.00000244140625, 40.0, 40.0000048828125, 40.0, 41.0, 40.0, 39.0, 39.0, 39.0, 39.0, 38.0, 38.00000244140625, 38.0, 38.0, 39.0, 39.0, 39.0, 39.0, 39.0, 39.0, 32.0, 32.0, 32.00000244140625, 32.0, 29.0, 29.0, 29.0, 29.0, 29.00000244140625, 29.0, 29.0, 29.0, 29.0, 29.0, 29.0, 28.0, 28.0, 28.0, 28.0, 29.0, 28.0, 28.0, 28.0, 28.0, 29.0, 28.0, 28.0, 28.0, 28.00000244140625, 28.0, 28.00000244140625, 28.0, 28.0, 28.00000244140625, 28.0, 27.0, 27.0, 27.0, 27.0, 27.0, 27.00000244140625, 27.0, 27.0, 27.0, 27.0, 27.0, 27.0, 27.00000244140625, 27.0, 27.00000244140625, 27.0, 27.0, 27.0, 27.0, 23.0, 23.0, 23.0, 23.0, 23.0, 23.0, 22.0, 22.0, 22.0, 22.0, 22.0, 22.0, 22.0, 22.0, 22.0, 22.0, 22.0, 22.0, 22.0, 22.0, 22.0, 22.0, 22.0, 22.0, 22.0, 22.0, 22.0, 22.0, 22.0, 22.0, 22.0, 20.000001220703126, 20.0, 20.000001220703126, 20.000001220703126, 21.0, 21.0, 21.0, 21.0, 21.00000244140625, 21.0, 21.0, 21.0, 21.0, 21.0, 21.0, 20.000001220703126, 20.0, 20.0, 20.00000244140625]\n",
            "[21, 21, 22, 26, 25, 21, 23, 25, 23, 21, 22, 20, 21, 22, 22, 21, 20, 22, 21, 21, 20, 22, 21, 22, 20, 19, 20, 20, 20, 18, 19, 21, 20, 18, 21, 22, 21, 23, 22, 24, 21, 23, 22, 21, 23, 23, 23, 24, 23, 25, 28, 26, 24, 24, 26, 27, 23, 23, 27, 25, 24, 25, 30, 26, 27, 22, 28, 24, 24, 27, 27, 28, 26, 22, 25, 26, 25, 27, 26, 26, 27, 27, 27, 26, 23, 27, 23, 26, 27, 27, 25, 30, 30, 28, 26, 25, 24, 24, 26, 28, 23, 26, 23, 25, 26, 26, 27, 27, 31, 27, 27, 26, 28, 26, 24, 28, 24, 27, 28, 25, 28, 29, 28, 29, 28, 28, 27, 25, 28, 28, 26, 27, 25, 25, 26, 30, 27, 27, 29, 28, 25, 27, 26, 25, 25, 28, 27, 26, 28, 28, 22, 21, 22, 21, 20, 19, 20, 19, 20, 16, 16, 16, 17, 16, 16, 16, 15, 17, 16, 17, 19, 19, 18, 16, 17, 16, 16, 18, 18, 16, 13, 15, 16, 15, 18, 17, 18, 17, 17, 15, 16, 16, 17, 15, 15, 17, 18, 16, 15, 15, 27, 25, 26, 23, 22, 21, 22, 22, 22, 24, 26, 24, 25, 24, 27, 24, 25, 25, 27, 29, 27, 24, 26, 23, 25, 25, 22, 24, 25, 25, 25, 25, 27, 26, 24, 24, 25, 25, 26, 22, 23, 24, 23, 23, 22, 22, 23, 22, 23, 25, 34, 30, 34, 38, 38, 36, 37, 35, 39, 35, 34, 37, 38, 41, 43, 40, 35, 37, 39, 37, 36, 37, 38, 38, 37, 39, 36, 39, 38, 41, 38, 39, 39, 38, 40, 38, 40, 40, 42, 44, 41, 42, 46, 43, 48, 40, 41, 47, 48, 47, 45, 43, 48, 50, 45, 40, 45, 48, 46, 51, 48, 42, 46, 48, 49, 48, 48, 44, 41, 42, 45, 47, 46, 41, 52, 53, 47, 47, 48, 44, 48, 46, 45, 44, 43, 44, 43, 44, 43, 40, 44, 44, 44, 39, 38, 41, 42, 46, 47, 44, 43, 43, 40, 39, 39, 40, 38, 38, 39, 37, 38, 36, 41, 39, 35, 37, 34, 36, 39, 39, 37, 35, 37, 33, 38, 40, 37, 38, 37, 39, 36, 39, 39, 39, 36, 35, 36, 37, 40, 34, 35, 32, 38, 36, 34, 35, 36, 34, 36, 36, 28, 32, 30, 32, 31, 29, 28, 30, 27, 33, 31, 32, 34, 37, 34, 34, 32, 28, 29, 30, 27, 26, 28, 24, 25, 26, 29, 26, 27, 25, 25, 26, 28, 28, 25, 27, 28, 27, 26, 27, 25, 26, 25, 26, 26, 28, 30, 28, 25, 26, 27, 23, 24, 22, 24, 25, 24, 23, 23, 24, 27, 25, 22, 27, 26, 26, 22, 22, 21, 25, 26, 26, 24, 24, 26, 24, 23, 21, 22, 22, 25, 24, 23, 27, 25, 25, 25, 24, 23, 24, 22, 22, 24, 21, 21, 24, 26, 22, 21, 20]\n",
            "Epoch:  1 Train Loss:  90.02522186279298 Test Loss:  434.85741430664064 Train MAE:  1.6353334082031237 Test MAE:  2.302000053710938\n",
            "0m 34s\n",
            "\n",
            "\n",
            "Epoch 2/49\n",
            "----------\n",
            "LR 1.0000000000000004e-08\n",
            "Started training\n"
          ],
          "name": "stdout"
        },
        {
          "output_type": "error",
          "ename": "KeyboardInterrupt",
          "evalue": "ignored",
          "traceback": [
            "\u001b[0;31m---------------------------------------------------------------------------\u001b[0m",
            "\u001b[0;31mKeyboardInterrupt\u001b[0m                         Traceback (most recent call last)",
            "\u001b[0;32m<ipython-input-43-0eefc8e8c541>\u001b[0m in \u001b[0;36m<module>\u001b[0;34m()\u001b[0m\n\u001b[0;32m----> 1\u001b[0;31m \u001b[0mmodel_trained\u001b[0m \u001b[0;34m=\u001b[0m \u001b[0mtrain_model\u001b[0m\u001b[0;34m(\u001b[0m\u001b[0mmodel\u001b[0m\u001b[0;34m,\u001b[0m \u001b[0moptimizer\u001b[0m\u001b[0;34m,\u001b[0m \u001b[0mexp_lr_scheduler\u001b[0m\u001b[0;34m,\u001b[0m \u001b[0mnum_epochs\u001b[0m\u001b[0;34m=\u001b[0m\u001b[0;36m50\u001b[0m\u001b[0;34m)\u001b[0m\u001b[0;34m\u001b[0m\u001b[0;34m\u001b[0m\u001b[0m\n\u001b[0m",
            "\u001b[0;32m<ipython-input-42-08d931ea405d>\u001b[0m in \u001b[0;36mtrain_model\u001b[0;34m(model, optimizer, scheduler, num_epochs)\u001b[0m\n\u001b[1;32m    122\u001b[0m \u001b[0;34m\u001b[0m\u001b[0m\n\u001b[1;32m    123\u001b[0m             \u001b[0;31m# backward + optimize only if in training phase\u001b[0m\u001b[0;34m\u001b[0m\u001b[0;34m\u001b[0m\u001b[0;34m\u001b[0m\u001b[0m\n\u001b[0;32m--> 124\u001b[0;31m             \u001b[0mloss\u001b[0m\u001b[0;34m.\u001b[0m\u001b[0mbackward\u001b[0m\u001b[0;34m(\u001b[0m\u001b[0;34m)\u001b[0m\u001b[0;34m\u001b[0m\u001b[0;34m\u001b[0m\u001b[0m\n\u001b[0m\u001b[1;32m    125\u001b[0m             \u001b[0moptimizer\u001b[0m\u001b[0;34m.\u001b[0m\u001b[0mstep\u001b[0m\u001b[0;34m(\u001b[0m\u001b[0;34m)\u001b[0m\u001b[0;34m\u001b[0m\u001b[0;34m\u001b[0m\u001b[0m\n\u001b[1;32m    126\u001b[0m \u001b[0;34m\u001b[0m\u001b[0m\n",
            "\u001b[0;32m/usr/local/lib/python3.7/dist-packages/torch/tensor.py\u001b[0m in \u001b[0;36mbackward\u001b[0;34m(self, gradient, retain_graph, create_graph, inputs)\u001b[0m\n\u001b[1;32m    243\u001b[0m                 \u001b[0mcreate_graph\u001b[0m\u001b[0;34m=\u001b[0m\u001b[0mcreate_graph\u001b[0m\u001b[0;34m,\u001b[0m\u001b[0;34m\u001b[0m\u001b[0;34m\u001b[0m\u001b[0m\n\u001b[1;32m    244\u001b[0m                 inputs=inputs)\n\u001b[0;32m--> 245\u001b[0;31m         \u001b[0mtorch\u001b[0m\u001b[0;34m.\u001b[0m\u001b[0mautograd\u001b[0m\u001b[0;34m.\u001b[0m\u001b[0mbackward\u001b[0m\u001b[0;34m(\u001b[0m\u001b[0mself\u001b[0m\u001b[0;34m,\u001b[0m \u001b[0mgradient\u001b[0m\u001b[0;34m,\u001b[0m \u001b[0mretain_graph\u001b[0m\u001b[0;34m,\u001b[0m \u001b[0mcreate_graph\u001b[0m\u001b[0;34m,\u001b[0m \u001b[0minputs\u001b[0m\u001b[0;34m=\u001b[0m\u001b[0minputs\u001b[0m\u001b[0;34m)\u001b[0m\u001b[0;34m\u001b[0m\u001b[0;34m\u001b[0m\u001b[0m\n\u001b[0m\u001b[1;32m    246\u001b[0m \u001b[0;34m\u001b[0m\u001b[0m\n\u001b[1;32m    247\u001b[0m     \u001b[0;32mdef\u001b[0m \u001b[0mregister_hook\u001b[0m\u001b[0;34m(\u001b[0m\u001b[0mself\u001b[0m\u001b[0;34m,\u001b[0m \u001b[0mhook\u001b[0m\u001b[0;34m)\u001b[0m\u001b[0;34m:\u001b[0m\u001b[0;34m\u001b[0m\u001b[0;34m\u001b[0m\u001b[0m\n",
            "\u001b[0;32m/usr/local/lib/python3.7/dist-packages/torch/autograd/__init__.py\u001b[0m in \u001b[0;36mbackward\u001b[0;34m(tensors, grad_tensors, retain_graph, create_graph, grad_variables, inputs)\u001b[0m\n\u001b[1;32m    145\u001b[0m     Variable._execution_engine.run_backward(\n\u001b[1;32m    146\u001b[0m         \u001b[0mtensors\u001b[0m\u001b[0;34m,\u001b[0m \u001b[0mgrad_tensors_\u001b[0m\u001b[0;34m,\u001b[0m \u001b[0mretain_graph\u001b[0m\u001b[0;34m,\u001b[0m \u001b[0mcreate_graph\u001b[0m\u001b[0;34m,\u001b[0m \u001b[0minputs\u001b[0m\u001b[0;34m,\u001b[0m\u001b[0;34m\u001b[0m\u001b[0;34m\u001b[0m\u001b[0m\n\u001b[0;32m--> 147\u001b[0;31m         allow_unreachable=True, accumulate_grad=True)  # allow_unreachable flag\n\u001b[0m\u001b[1;32m    148\u001b[0m \u001b[0;34m\u001b[0m\u001b[0m\n\u001b[1;32m    149\u001b[0m \u001b[0;34m\u001b[0m\u001b[0m\n",
            "\u001b[0;31mKeyboardInterrupt\u001b[0m: "
          ]
        }
      ]
    },
    {
      "cell_type": "code",
      "metadata": {
        "id": "RCjwQbGSlzak"
      },
      "source": [
        ""
      ],
      "execution_count": null,
      "outputs": []
    },
    {
      "cell_type": "code",
      "metadata": {
        "colab": {
          "base_uri": "https://localhost:8080/"
        },
        "id": "Tirz9SyZWHzG",
        "outputId": "f72001b8-ceee-4007-9b24-4d1dab2e936d"
      },
      "source": [
        "print(len(dataset['train']))"
      ],
      "execution_count": null,
      "outputs": [
        {
          "output_type": "stream",
          "text": [
            "1500\n"
          ],
          "name": "stdout"
        }
      ]
    },
    {
      "cell_type": "code",
      "metadata": {
        "colab": {
          "base_uri": "https://localhost:8080/",
          "height": 286
        },
        "id": "pW3WizwzE_wc",
        "outputId": "3d771f15-cb47-4a43-c166-ec69023fc98b"
      },
      "source": [
        "plt.imshow(dataset['train'][0][1][0,:,:],cmap='gray')"
      ],
      "execution_count": null,
      "outputs": [
        {
          "output_type": "execute_result",
          "data": {
            "text/plain": [
              "<matplotlib.image.AxesImage at 0x7f784562ced0>"
            ]
          },
          "metadata": {
            "tags": []
          },
          "execution_count": 27
        },
        {
          "output_type": "display_data",
          "data": {
            "image/png": "[encoded data removed]",
            "text/plain": [
              "<Figure size 432x288 with 1 Axes>"
            ]
          },
          "metadata": {
            "tags": [],
            "needs_background": "light"
          }
        }
      ]
    },
    {
      "cell_type": "code",
      "metadata": {
        "colab": {
          "base_uri": "https://localhost:8080/",
          "height": 274
        },
        "id": "eBcEwc2ZKyJh",
        "outputId": "4044997c-a030-4f4a-bb82-ec1dcd52ca47"
      },
      "source": [
        "true_values = []\n",
        "predicted_values = []\n",
        "\n",
        "\n",
        "metrics = defaultdict(float)\n",
        "epoch_samples = 0\n",
        "\n",
        "for inputs,labels in dataloader['valid']:\n",
        "    #print(dataloaders['train'])\n",
        "    #print('Entered')\n",
        "    inputs = inputs.to(device)\n",
        "    #print(inputs['image'].shape)\n",
        "    labels = labels.to(device)  \n",
        "\n",
        "    # zero the parameter gradients\n",
        "    #optimizer.zero_grad()\n",
        "\n",
        "    # forward\n",
        "    # track history if only in train\n",
        "\n",
        "    outputs = model(inputs)\n",
        "    #outputs = torch.max(outputs,torch.tensor([0.]).to(device))\n",
        "    loss = calc_loss(outputs, labels, metrics)\n",
        "\n",
        "    # backward + optimize only if in training phase\n",
        "    #loss.backward()\n",
        "    #optimizer.step()\n",
        "\n",
        "    # statistics\n",
        "    epoch_samples += inputs.size(0)\n",
        "\n",
        "\n",
        "\n",
        "    # loop over batch samples\n",
        "    for true, predicted in zip(labels, outputs):\n",
        "        # integrate a density map to get no. of objects\n",
        "        # note: density maps were normalized to 100 * no. of objects\n",
        "        #       to make network learn better\n",
        "        true_counts = torch.sum(true).item() / 100\n",
        "        #predicted = torch.max(predicted,torch.tensor([0.]).to(device))\n",
        "        p=torch.nn.functional.relu(predicted).cpu().detach().numpy() # contains a prediction result\n",
        "        # normalize threshold to 0 or 1\n",
        "        i = p >= 0.5\n",
        "        p[i] = 1\n",
        "        i = p < 0.5\n",
        "        p[i] = 0\n",
        "        labeled_array, num_features = lab(p, return_num=True)\n",
        "        #predicted_counts = torch.sum(predicted).item() / 100\n",
        "        predicted_counts = num_features\n",
        "\n",
        "        # update current epoch results\n",
        "        true_values.append(true_counts)\n",
        "        predicted_values.append(predicted_counts)\n",
        "    print(loss)\n",
        "    print(labels.shape)\n",
        "    print(true_values)\n",
        "    print(predicted_values)\n",
        "    print(ok)"
      ],
      "execution_count": null,
      "outputs": [
        {
          "output_type": "stream",
          "text": [
            "tensor(191.4178, device='cuda:0', grad_fn=<AddBackward0>)\n",
            "torch.Size([4, 1, 160, 240])\n",
            "[21.0, 21.0, 21.0, 21.0]\n",
            "[21, 20, 22, 24]\n"
          ],
          "name": "stdout"
        },
        {
          "output_type": "error",
          "ename": "NameError",
          "evalue": "ignored",
          "traceback": [
            "\u001b[0;31m---------------------------------------------------------------------------\u001b[0m",
            "\u001b[0;31mNameError\u001b[0m                                 Traceback (most recent call last)",
            "\u001b[0;32m<ipython-input-44-d4261da5b050>\u001b[0m in \u001b[0;36m<module>\u001b[0;34m()\u001b[0m\n\u001b[1;32m     56\u001b[0m     \u001b[0mprint\u001b[0m\u001b[0;34m(\u001b[0m\u001b[0mtrue_values\u001b[0m\u001b[0;34m)\u001b[0m\u001b[0;34m\u001b[0m\u001b[0;34m\u001b[0m\u001b[0m\n\u001b[1;32m     57\u001b[0m     \u001b[0mprint\u001b[0m\u001b[0;34m(\u001b[0m\u001b[0mpredicted_values\u001b[0m\u001b[0;34m)\u001b[0m\u001b[0;34m\u001b[0m\u001b[0;34m\u001b[0m\u001b[0m\n\u001b[0;32m---> 58\u001b[0;31m     \u001b[0mprint\u001b[0m\u001b[0;34m(\u001b[0m\u001b[0mok\u001b[0m\u001b[0;34m)\u001b[0m\u001b[0;34m\u001b[0m\u001b[0;34m\u001b[0m\u001b[0m\n\u001b[0m",
            "\u001b[0;31mNameError\u001b[0m: name 'ok' is not defined"
          ]
        }
      ]
    },
    {
      "cell_type": "code",
      "metadata": {
        "colab": {
          "base_uri": "https://localhost:8080/"
        },
        "id": "hjbf88UjMCG2",
        "outputId": "995675c8-00f2-42fd-c8dd-453716d5f014"
      },
      "source": [
        "print(inputs.shape)"
      ],
      "execution_count": null,
      "outputs": [
        {
          "output_type": "stream",
          "text": [
            "torch.Size([4, 1, 160, 240])\n"
          ],
          "name": "stdout"
        }
      ]
    },
    {
      "cell_type": "code",
      "metadata": {
        "colab": {
          "base_uri": "https://localhost:8080/"
        },
        "id": "l8B0V97yNJfV",
        "outputId": "ef0cda4d-796e-475f-befd-edde84ceac47"
      },
      "source": [
        "print(labels[1,0,:,:])"
      ],
      "execution_count": null,
      "outputs": [
        {
          "output_type": "stream",
          "text": [
            "tensor([[0.0000, 0.0000, 0.0000,  ..., 0.0000, 0.0000, 0.0000],\n",
            "        [0.0000, 0.0000, 0.0000,  ..., 0.0000, 0.0000, 0.0000],\n",
            "        [0.0000, 0.0000, 0.0000,  ..., 0.0000, 0.0000, 0.0000],\n",
            "        ...,\n",
            "        [0.0000, 0.0000, 0.0040,  ..., 0.0000, 0.0000, 0.0000],\n",
            "        [0.0000, 0.0000, 0.0086,  ..., 0.0000, 0.0000, 0.0000],\n",
            "        [0.0000, 0.0000, 0.0000,  ..., 0.0000, 0.0000, 0.0000]],\n",
            "       device='cuda:0')\n"
          ],
          "name": "stdout"
        }
      ]
    },
    {
      "cell_type": "code",
      "metadata": {
        "colab": {
          "base_uri": "https://localhost:8080/"
        },
        "id": "xiNetykHPb_D",
        "outputId": "67b3cd9f-bba5-4844-a8a3-65290449f843"
      },
      "source": [
        "print(torch.sum(outputs[1,0,:,:]))"
      ],
      "execution_count": null,
      "outputs": [
        {
          "output_type": "stream",
          "text": [
            "tensor(-613768.3750, device='cuda:0', grad_fn=<SumBackward0>)\n"
          ],
          "name": "stdout"
        }
      ]
    },
    {
      "cell_type": "code",
      "metadata": {
        "colab": {
          "base_uri": "https://localhost:8080/",
          "height": 286
        },
        "id": "nzAhgxuXMGg3",
        "outputId": "234651ae-2692-4e0d-e7e5-003a776128e8"
      },
      "source": [
        "plt.imshow(labels[1,0,:,:].cpu(),cmap='gray')"
      ],
      "execution_count": null,
      "outputs": [
        {
          "output_type": "execute_result",
          "data": {
            "text/plain": [
              "<matplotlib.image.AxesImage at 0x7f2dbcf12350>"
            ]
          },
          "metadata": {
            "tags": []
          },
          "execution_count": 50
        },
        {
          "output_type": "display_data",
          "data": {
            "image/png": "[encoded data removed]",
            "text/plain": [
              "<Figure size 432x288 with 1 Axes>"
            ]
          },
          "metadata": {
            "tags": [],
            "needs_background": "light"
          }
        }
      ]
    },
    {
      "cell_type": "code",
      "metadata": {
        "colab": {
          "base_uri": "https://localhost:8080/"
        },
        "id": "HWDf_dgENTXa",
        "outputId": "48e9ee65-7eaa-43b8-a0b8-71f95a10959d"
      },
      "source": [
        "print(outputs[1,0,:,:])"
      ],
      "execution_count": null,
      "outputs": [
        {
          "output_type": "stream",
          "text": [
            "tensor([[-16.5346, -14.4243, -12.8525,  ..., -14.6614, -18.3981, -13.9844],\n",
            "        [-23.6480, -13.7219, -12.6641,  ..., -12.1405, -11.0656, -15.1848],\n",
            "        [-26.5412, -17.4505,  -9.7833,  ..., -12.6068, -10.1641, -14.1154],\n",
            "        ...,\n",
            "        [-12.5616, -12.5324, -15.5709,  ..., -13.5767, -15.1866, -29.2289],\n",
            "        [-19.4912, -17.3610, -17.1859,  ...,  -9.7983, -13.4876, -25.1023],\n",
            "        [-11.6165, -11.6868, -10.9563,  ..., -19.8714, -17.2694, -19.2662]],\n",
            "       device='cuda:0', grad_fn=<SliceBackward>)\n"
          ],
          "name": "stdout"
        }
      ]
    },
    {
      "cell_type": "code",
      "metadata": {
        "colab": {
          "base_uri": "https://localhost:8080/",
          "height": 286
        },
        "id": "SGb5-qeVL_1V",
        "outputId": "c36be77e-142f-40bb-b36d-ee3bce5f69aa"
      },
      "source": [
        "plt.imshow(outputs[1,0,:,:].cpu().detach().numpy(),cmap='gray')"
      ],
      "execution_count": null,
      "outputs": [
        {
          "output_type": "execute_result",
          "data": {
            "text/plain": [
              "<matplotlib.image.AxesImage at 0x7f2dbce77890>"
            ]
          },
          "metadata": {
            "tags": []
          },
          "execution_count": 51
        },
        {
          "output_type": "display_data",
          "data": {
            "image/png": "[encoded data removed]",
            "text/plain": [
              "<Figure size 432x288 with 1 Axes>"
            ]
          },
          "metadata": {
            "tags": [],
            "needs_background": "light"
          }
        }
      ]
    },
    {
      "cell_type": "code",
      "metadata": {
        "colab": {
          "base_uri": "https://localhost:8080/",
          "height": 286
        },
        "id": "mlJ-2hyWzkqD",
        "outputId": "bddc6bd1-8b15-4820-e869-bd48534cb89e"
      },
      "source": [
        "plt.imshow(torch.nn.functional.relu(outputs[1,0,:,:]).cpu().detach().numpy(),cmap='gray')"
      ],
      "execution_count": null,
      "outputs": [
        {
          "output_type": "execute_result",
          "data": {
            "text/plain": [
              "<matplotlib.image.AxesImage at 0x7f39974e7890>"
            ]
          },
          "metadata": {
            "tags": []
          },
          "execution_count": 26
        },
        {
          "output_type": "display_data",
          "data": {
            "image/png": "[encoded data removed]",
            "text/plain": [
              "<Figure size 432x288 with 1 Axes>"
            ]
          },
          "metadata": {
            "tags": [],
            "needs_background": "light"
          }
        }
      ]
    },
    {
      "cell_type": "code",
      "metadata": {
        "colab": {
          "base_uri": "https://localhost:8080/"
        },
        "id": "Qle5tZ2VFUFN",
        "outputId": "eb89bfec-4bc0-4ae6-d2aa-2d5f937ce358"
      },
      "source": [
        "#true = dataset['train'][0][1][0,:,:]\n",
        "#print(true.shape)\n",
        "true_counts = torch.sum(labels[3,0,:,:]).item() / 100\n",
        "print(true_counts)\n"
      ],
      "execution_count": null,
      "outputs": [
        {
          "output_type": "stream",
          "text": [
            "21.0\n"
          ],
          "name": "stdout"
        }
      ]
    },
    {
      "cell_type": "code",
      "metadata": {
        "colab": {
          "base_uri": "https://localhost:8080/"
        },
        "id": "KaOS9Td-2VeE",
        "outputId": "962c0a8e-bb1e-4b7a-d304-2c474d129992"
      },
      "source": [
        "print(true_counts)"
      ],
      "execution_count": null,
      "outputs": [
        {
          "output_type": "stream",
          "text": [
            "21.0\n"
          ],
          "name": "stdout"
        }
      ]
    },
    {
      "cell_type": "code",
      "metadata": {
        "id": "2A3o5MsW2bnJ"
      },
      "source": [
        ""
      ],
      "execution_count": null,
      "outputs": []
    },
    {
      "cell_type": "code",
      "metadata": {
        "colab": {
          "base_uri": "https://localhost:8080/"
        },
        "id": "2brpyXMRyiBy",
        "outputId": "40314f73-9bf0-4ec6-f137-356de991b7e5"
      },
      "source": [
        "print(torch.nn.functional.relu(outputs[1,0,:,:]))"
      ],
      "execution_count": null,
      "outputs": [
        {
          "output_type": "stream",
          "text": [
            "tensor([[0., 0., 0.,  ..., 0., 0., 0.],\n",
            "        [0., 0., 0.,  ..., 0., 0., 0.],\n",
            "        [0., 0., 0.,  ..., 0., 0., 0.],\n",
            "        ...,\n",
            "        [0., 0., 0.,  ..., 0., 0., 0.],\n",
            "        [0., 0., 0.,  ..., 0., 0., 0.],\n",
            "        [0., 0., 0.,  ..., 0., 0., 0.]], device='cuda:0',\n",
            "       grad_fn=<ReluBackward0>)\n"
          ],
          "name": "stdout"
        }
      ]
    },
    {
      "cell_type": "code",
      "metadata": {
        "id": "FbqpE7-Z21Ez"
      },
      "source": [
        "bins=20"
      ],
      "execution_count": null,
      "outputs": []
    },
    {
      "cell_type": "code",
      "metadata": {
        "colab": {
          "base_uri": "https://localhost:8080/"
        },
        "id": "HfWkH8SB24L7",
        "outputId": "6f6806ca-d1b7-4dc6-a1a3-7e23c16a6bc0"
      },
      "source": [
        "print(p.shape)"
      ],
      "execution_count": null,
      "outputs": [
        {
          "output_type": "stream",
          "text": [
            "(160, 240)\n"
          ],
          "name": "stdout"
        }
      ]
    },
    {
      "cell_type": "code",
      "metadata": {
        "id": "gm1S6mZY2ysX"
      },
      "source": [
        "histogram, bin_edges = np.histogram(p, bins=256, range=(0, 1))"
      ],
      "execution_count": null,
      "outputs": []
    },
    {
      "cell_type": "code",
      "metadata": {
        "colab": {
          "base_uri": "https://localhost:8080/",
          "height": 294
        },
        "id": "pvWY1fiw1_qu",
        "outputId": "5cc5ce17-ac41-4771-bcde-2da423a14862"
      },
      "source": [
        "# configure and draw the histogram figure\n",
        "plt.figure()\n",
        "plt.title(\"Grayscale Histogram\")\n",
        "plt.xlabel(\"grayscale value\")\n",
        "plt.ylabel(\"pixels\")\n",
        "#plt.xlim([0.0, 1.0])  # <- named arguments do not work here\n",
        "\n",
        "plt.plot(bin_edges[0:-1], histogram)  # <- or here\n",
        "plt.show()"
      ],
      "execution_count": null,
      "outputs": [
        {
          "output_type": "display_data",
          "data": {
            "image/png": "[encoded data removed]",
            "text/plain": [
              "<Figure size 432x288 with 1 Axes>"
            ]
          },
          "metadata": {
            "tags": [],
            "needs_background": "light"
          }
        }
      ]
    },
    {
      "cell_type": "code",
      "metadata": {
        "id": "U1krlJH13GQg"
      },
      "source": [
        ""
      ],
      "execution_count": null,
      "outputs": []
    },
    {
      "cell_type": "code",
      "metadata": {
        "colab": {
          "base_uri": "https://localhost:8080/",
          "height": 286
        },
        "id": "Ta0c_1lV10Q7",
        "outputId": "10c0b961-73eb-488b-f55c-38f2f1100471"
      },
      "source": [
        "from scipy.ndimage import label\n",
        "from skimage.measure import label as lab\n",
        "\n",
        "p=torch.nn.functional.relu(outputs[3,0,:,:]).cpu().detach().numpy() # contains a prediction result\n",
        "# normalize threshold to 0 or 1\n",
        "i = p >= 0.5\n",
        "p[i] = 1\n",
        "i = p < 0.5\n",
        "p[i] = 0\n",
        "labeled_array, num_features = lab(p, return_num=True)\n",
        "plt.imshow(p, cmap=plt.cm.binary)\n",
        "print(num_features)"
      ],
      "execution_count": null,
      "outputs": [
        {
          "output_type": "stream",
          "text": [
            "24\n"
          ],
          "name": "stdout"
        },
        {
          "output_type": "display_data",
          "data": {
            "image/png": "[encoded data removed]",
            "text/plain": [
              "<Figure size 432x288 with 1 Axes>"
            ]
          },
          "metadata": {
            "tags": [],
            "needs_background": "light"
          }
        }
      ]
    },
    {
      "cell_type": "code",
      "metadata": {
        "colab": {
          "base_uri": "https://localhost:8080/",
          "height": 286
        },
        "id": "b7Y48-SXGMIs",
        "outputId": "decb03d1-c280-4e6f-f2d5-fe68f8e2d49c"
      },
      "source": [
        "from scipy.ndimage import label\n",
        "from skimage.measure import label as lab\n",
        "\n",
        "p=torch.nn.functional.relu(labels[1,0,:,:]).cpu().numpy() # contains a prediction result\n",
        "# normalize threshold to 0 or 1\n",
        "i = p >= 0.5\n",
        "p[i] = 1\n",
        "i = p < 0.5\n",
        "p[i] = 0\n",
        "labeled_array, num_features = lab(p, return_num=True)\n",
        "plt.imshow(p, cmap=plt.cm.binary)\n",
        "print(num_features)"
      ],
      "execution_count": null,
      "outputs": [
        {
          "output_type": "stream",
          "text": [
            "20\n"
          ],
          "name": "stdout"
        },
        {
          "output_type": "display_data",
          "data": {
            "image/png": "[encoded data removed]",
            "text/plain": [
              "<Figure size 432x288 with 1 Axes>"
            ]
          },
          "metadata": {
            "tags": [],
            "needs_background": "light"
          }
        }
      ]
    },
    {
      "cell_type": "code",
      "metadata": {
        "colab": {
          "base_uri": "https://localhost:8080/"
        },
        "id": "XiQUMbCzyTRp",
        "outputId": "879752f5-07b5-42bc-af29-17420eb9e3c3"
      },
      "source": [
        "pred_counts = torch.sum(outputs[1,0,:,:]).item() / 100\n",
        "print(pred_counts)"
      ],
      "execution_count": null,
      "outputs": [
        {
          "output_type": "stream",
          "text": [
            "27.6093359375\n"
          ],
          "name": "stdout"
        }
      ]
    },
    {
      "cell_type": "code",
      "metadata": {
        "colab": {
          "base_uri": "https://localhost:8080/"
        },
        "id": "5I_RZ6lFEfGp",
        "outputId": "85344523-2744-446d-aea6-a32d58d5a5a4"
      },
      "source": [
        "print(dataset['train'][0][1].shape)"
      ],
      "execution_count": null,
      "outputs": [
        {
          "output_type": "stream",
          "text": [
            "(1, 160, 240)\n"
          ],
          "name": "stdout"
        }
      ]
    },
    {
      "cell_type": "code",
      "metadata": {
        "id": "8sRmWGdzXGBu"
      },
      "source": [
        ""
      ],
      "execution_count": null,
      "outputs": []
    }
  ]
}